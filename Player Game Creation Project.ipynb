{
 "cells": [
  {
   "cell_type": "markdown",
   "metadata": {},
   "source": [
    "#### Some suggested tools before you get started:\n",
    "To take input from a user:\n",
    "\n",
    "    player1 = input(\"Please pick a marker 'X' or 'O'\")\n",
    "    \n",
    "Note that input() takes in a string. If you need an integer value, use\n",
    "\n",
    "    position = int(input('Please enter a number'))\n",
    "    \n",
    "<br>To clear the screen between moves:\n",
    "\n",
    "    from IPython.display import clear_output\n",
    "    clear_output()\n",
    "    \n",
    "Note that clear_output() will only work in jupyter. To clear the screen in other IDEs, consider:\n",
    "\n",
    "    print('\\n'*100)\n",
    "    \n",
    "This scrolls the previous board up out of view. Now on to the program!"
   ]
  },
  {
   "cell_type": "markdown",
   "metadata": {},
   "source": [
    "**Step 1: Write a function that can print out a board. Set up your board as a list, where each index 1-9 corresponds with a number on a number pad, so you get a 3 by 3 board representation.**"
   ]
  },
  {
   "cell_type": "code",
   "execution_count": 39,
   "metadata": {},
   "outputs": [],
   "source": [
    "from IPython.display import clear_output\n",
    "\n",
    "def display_board(board):\n",
    "    \n",
    "    clear_output()\n",
    "    \n",
    "    print(board[7]+' | '+board[8]+' | '+board[9])\n",
    "    print('---------')\n",
    "    print(board[4]+' | '+board[5]+' | '+board[6])\n",
    "    print('---------')\n",
    "    print(board[1]+' | '+board[2]+' | '+board[3])\n",
    "    "
   ]
  },
  {
   "cell_type": "markdown",
   "metadata": {},
   "source": [
    "**TEST Step 1:** run your function on a test version of the board list, and make adjustments as necessary"
   ]
  },
  {
   "cell_type": "code",
   "execution_count": 54,
   "metadata": {},
   "outputs": [
    {
     "name": "stdout",
     "output_type": "stream",
     "text": [
      "X | O | X\n",
      "---------\n",
      "O | X | O\n",
      "---------\n",
      "X | O | X\n"
     ]
    }
   ],
   "source": [
    "test_board = ['#','X','O','X','O','X','O','X','O','X']\n",
    "display_board(test_board)"
   ]
  },
  {
   "cell_type": "code",
   "execution_count": 57,
   "metadata": {},
   "outputs": [
    {
     "name": "stdout",
     "output_type": "stream",
     "text": [
      "  |   |  \n",
      "---------\n",
      "  |   |  \n",
      "---------\n",
      "  |   |  \n"
     ]
    }
   ],
   "source": [
    "test_board2 = [' ']*10\n",
    "display_board(test_board2)"
   ]
  },
  {
   "cell_type": "code",
   "execution_count": 67,
   "metadata": {},
   "outputs": [
    {
     "name": "stdout",
     "output_type": "stream",
     "text": [
      "O | X | O\n",
      "---------\n",
      "X | O | X\n",
      "---------\n",
      "O | X | O\n"
     ]
    }
   ],
   "source": [
    "test_board3 = ['#','O','X','O','X','O','X','O','X','O']\n",
    "display_board(test_board3)"
   ]
  },
  {
   "cell_type": "markdown",
   "metadata": {},
   "source": [
    "**Step 2: Write a function that can take in a player input and assign their marker as 'X' or 'O'. Think about using *while* loops to continually ask until you get a correct answer.**"
   ]
  },
  {
   "cell_type": "code",
   "execution_count": 169,
   "metadata": {},
   "outputs": [],
   "source": [
    "def player_input():\n",
    "    \n",
    "    marker = \" \"\n",
    "    \n",
    "    #Keep asking player 1 to choose x or o\n",
    "    \n",
    "    while marker != 'X' and marker != 'O':\n",
    "        marker = input('Player 1, choose X or O: ').upper()\n",
    "        \n",
    "    #Assign player 2 the opposite marker\n",
    "    \n",
    "    player1 = marker\n",
    "    \n",
    "    if player1 == 'X':\n",
    "        player2 = 'O'\n",
    "    else:\n",
    "        player2 = 'X'\n",
    "        \n",
    "    return (player1,player2)\n",
    "    #Output is a tuple: (player1, player2)"
   ]
  },
  {
   "cell_type": "markdown",
   "metadata": {},
   "source": [
    "**TEST Step 2:** run the function to make sure it returns the desired output"
   ]
  },
  {
   "cell_type": "code",
   "execution_count": 170,
   "metadata": {},
   "outputs": [
    {
     "name": "stdout",
     "output_type": "stream",
     "text": [
      "Player 1, choose X or O: X\n"
     ]
    }
   ],
   "source": [
    "player1_marker , player2_marker = player_input()"
   ]
  },
  {
   "cell_type": "code",
   "execution_count": 171,
   "metadata": {},
   "outputs": [
    {
     "data": {
      "text/plain": [
       "'O'"
      ]
     },
     "execution_count": 171,
     "metadata": {},
     "output_type": "execute_result"
    }
   ],
   "source": [
    "player2_marker"
   ]
  },
  {
   "cell_type": "markdown",
   "metadata": {},
   "source": [
    "**Step 3: Write a function that takes in the board list object, a marker ('X' or 'O'), and a desired position (number 1-9) and assigns it to the board.**"
   ]
  },
  {
   "cell_type": "code",
   "execution_count": 45,
   "metadata": {},
   "outputs": [],
   "source": [
    "def place_marker(board, marker, position):\n",
    "    \n",
    "    #mark = input(\"Enter your marker X or O: \")\n",
    "    #move = int(input(\"Which space do you want it on 1-9: \"))\n",
    "    #board[move] = mark\n",
    "    #return board\n",
    "\n",
    "    board[position] = marker\n",
    "    return board"
   ]
  },
  {
   "cell_type": "markdown",
   "metadata": {},
   "source": [
    "**TEST Step 3:** run the place marker function using test parameters and display the modified board"
   ]
  },
  {
   "cell_type": "code",
   "execution_count": 172,
   "metadata": {},
   "outputs": [
    {
     "name": "stdout",
     "output_type": "stream",
     "text": [
      "X | $ | X\n",
      "---------\n",
      "O | X | O\n",
      "---------\n",
      "X | O | X\n"
     ]
    }
   ],
   "source": [
    "place_marker(test_board,'$',8)\n",
    "display_board(test_board)"
   ]
  },
  {
   "cell_type": "markdown",
   "metadata": {},
   "source": [
    "**Step 4: Write a function that takes in a board and a mark (X or O) and then checks to see if that mark has won. **"
   ]
  },
  {
   "cell_type": "code",
   "execution_count": 81,
   "metadata": {},
   "outputs": [],
   "source": [
    "def win_check(board, mark):\n",
    "    \n",
    "    game_over = False\n",
    "    \n",
    "    game_over2 = False\n",
    "    \n",
    "    if mark == 'X':\n",
    "        mark2 = 'O'\n",
    "    else:\n",
    "        mark2 = 'X'\n",
    "    \n",
    "    while game_over != True:\n",
    "        \n",
    "        if board[1]==board[2]==board[3]==mark: #Across bottm\n",
    "            game_over = True\n",
    "        elif board[4]==board[5]==board[6]==mark: #Across middle\n",
    "            game_over = True\n",
    "        elif board[7]==board[8]==board[9]==mark: #Across top\n",
    "            game_over = True\n",
    "        elif board[1]==board[5]==board[9]==mark: #Diagonal 1\n",
    "            game_over = True\n",
    "        elif board[7]==board[5]==board[3]==mark: #Diagonal 2\n",
    "            game_over = True\n",
    "        elif board[1]==board[4]==board[7]==mark: #Column 1\n",
    "            game_over = True\n",
    "        elif board[2]==board[5]==board[8]==mark: #Column 2\n",
    "            game_over = True\n",
    "        elif board[3]==board[6]==board[9]==mark: #Column 3\n",
    "            game_over = True\n",
    "            \n",
    "        else:\n",
    "            print(mark2+\" won the game\")\n",
    "            return game_over\n",
    "            break\n",
    "            \n",
    "    #OR: if board[1:4] == mark:\n",
    "            #game_over = True\n",
    "        \n",
    "    '''OR:\n",
    "        if (board[1]==board[2]==board[3]==mark) or (board[4]==board[5]==board[6]==mark:)\n",
    "        or (board[7]==board[8]==board[9]==mark) or ......\n",
    "                game_over = True\n",
    "    '''\n",
    "\n",
    "    while game_over2 != True:\n",
    "        \n",
    "        if board[1]==board[2]==board[3]==mark2:\n",
    "            game_over2 = True\n",
    "        elif board[4]==board[5]==board[6]==mark2:\n",
    "            game_over2 = True\n",
    "        elif board[7]==board[8]==board[9]==mark2:\n",
    "            game_over2 = True\n",
    "        elif board[1]==board[5]==board[9]==mark2:\n",
    "            game_over2 = True\n",
    "        elif board[7]==board[5]==board[3]==mark2:\n",
    "            game_over2 = True\n",
    "        elif board[1]==board[4]==board[7]==mark2:\n",
    "            game_over2 = True\n",
    "        elif board[2]==board[5]==board[8]==mark2:\n",
    "            game_over2 = True\n",
    "        elif board[3]==board[6]==board[9]==mark2:\n",
    "            game_over2 = True\n",
    "            \n",
    "        else:\n",
    "            print(mark2+\" lost the game\")\n",
    "            break\n",
    "                \n",
    "    \n",
    "    #return mark+\" has won the game!\"\n",
    "    return game_over"
   ]
  },
  {
   "cell_type": "markdown",
   "metadata": {},
   "source": [
    "**TEST Step 4:** run the win_check function against our test_board - it should return True"
   ]
  },
  {
   "cell_type": "code",
   "execution_count": 82,
   "metadata": {},
   "outputs": [
    {
     "name": "stdout",
     "output_type": "stream",
     "text": [
      "O lost the game\n"
     ]
    },
    {
     "data": {
      "text/plain": [
       "True"
      ]
     },
     "execution_count": 82,
     "metadata": {},
     "output_type": "execute_result"
    }
   ],
   "source": [
    "win_check(test_board,'X')"
   ]
  },
  {
   "cell_type": "code",
   "execution_count": 83,
   "metadata": {},
   "outputs": [
    {
     "name": "stdout",
     "output_type": "stream",
     "text": [
      "O won the game\n"
     ]
    },
    {
     "data": {
      "text/plain": [
       "False"
      ]
     },
     "execution_count": 83,
     "metadata": {},
     "output_type": "execute_result"
    }
   ],
   "source": [
    "win_check(test_board3,'X')"
   ]
  },
  {
   "cell_type": "markdown",
   "metadata": {},
   "source": [
    "**Step 5: Write a function that uses the random module to randomly decide which player goes first. You may want to lookup random.randint() Return a string of which player went first.**"
   ]
  },
  {
   "cell_type": "code",
   "execution_count": 173,
   "metadata": {},
   "outputs": [],
   "source": [
    "import random\n",
    "\n",
    "def choose_first():\n",
    "    \n",
    "    x = random.randint(1,3)\n",
    "    \n",
    "    if x == 1:\n",
    "        print(\"Player 1\")\n",
    "    else:\n",
    "        print(\"Player 2\")"
   ]
  },
  {
   "cell_type": "code",
   "execution_count": 174,
   "metadata": {},
   "outputs": [
    {
     "name": "stdout",
     "output_type": "stream",
     "text": [
      "Player 2\n"
     ]
    }
   ],
   "source": [
    "choose_first()"
   ]
  },
  {
   "cell_type": "markdown",
   "metadata": {},
   "source": [
    "**Step 6: Write a function that returns a boolean indicating whether a space on the board is freely available.**"
   ]
  },
  {
   "cell_type": "code",
   "execution_count": 94,
   "metadata": {},
   "outputs": [],
   "source": [
    "def space_check(board, position):\n",
    "    \n",
    "    if board[position] == ' ':\n",
    "        print(\"This position is free.\")\n",
    "        return True\n",
    "    else:\n",
    "        print(\"This position is already occupied.\")\n",
    "        return False\n",
    "    "
   ]
  },
  {
   "cell_type": "code",
   "execution_count": 95,
   "metadata": {},
   "outputs": [
    {
     "name": "stdout",
     "output_type": "stream",
     "text": [
      "This position is already occupied.\n"
     ]
    },
    {
     "data": {
      "text/plain": [
       "False"
      ]
     },
     "execution_count": 95,
     "metadata": {},
     "output_type": "execute_result"
    }
   ],
   "source": [
    "space_check(test_board, 2)"
   ]
  },
  {
   "cell_type": "code",
   "execution_count": 96,
   "metadata": {},
   "outputs": [
    {
     "name": "stdout",
     "output_type": "stream",
     "text": [
      "This position is free.\n"
     ]
    },
    {
     "data": {
      "text/plain": [
       "True"
      ]
     },
     "execution_count": 96,
     "metadata": {},
     "output_type": "execute_result"
    }
   ],
   "source": [
    "space_check(test_board2, 2)"
   ]
  },
  {
   "cell_type": "markdown",
   "metadata": {},
   "source": [
    "**Step 7: Write a function that checks if the board is full and returns a boolean value. True if full, False otherwise.**"
   ]
  },
  {
   "cell_type": "code",
   "execution_count": 184,
   "metadata": {},
   "outputs": [],
   "source": [
    "def full_board_check(board):\n",
    "    \n",
    "    '''if ' ' in board:\n",
    "        print(\"The board is not yet full.\")\n",
    "        return False\n",
    "    else:\n",
    "        print(\"The board is completely full.\")\n",
    "        return True'''\n",
    "\n",
    "    \n",
    "    for i in range(1,10):\n",
    "        if space_check(board,i):\n",
    "            return False\n",
    "\n",
    "    return True #Board is full if this is returned"
   ]
  },
  {
   "cell_type": "code",
   "execution_count": 185,
   "metadata": {},
   "outputs": [
    {
     "name": "stdout",
     "output_type": "stream",
     "text": [
      "This position is already occupied.\n",
      "This position is already occupied.\n",
      "This position is already occupied.\n",
      "This position is already occupied.\n",
      "This position is already occupied.\n",
      "This position is already occupied.\n",
      "This position is already occupied.\n",
      "This position is already occupied.\n",
      "This position is already occupied.\n"
     ]
    },
    {
     "data": {
      "text/plain": [
       "True"
      ]
     },
     "execution_count": 185,
     "metadata": {},
     "output_type": "execute_result"
    }
   ],
   "source": [
    "full_board_check(test_board)"
   ]
  },
  {
   "cell_type": "code",
   "execution_count": 186,
   "metadata": {},
   "outputs": [
    {
     "name": "stdout",
     "output_type": "stream",
     "text": [
      "This position is free.\n"
     ]
    },
    {
     "data": {
      "text/plain": [
       "False"
      ]
     },
     "execution_count": 186,
     "metadata": {},
     "output_type": "execute_result"
    }
   ],
   "source": [
    "full_board_check(test_board2)"
   ]
  },
  {
   "cell_type": "markdown",
   "metadata": {},
   "source": [
    "**Step 8: Write a function that asks for a player's next position (as a number 1-9) and then uses the function from step 6 to check if it's a free position. If it is, then return the position for later use.**"
   ]
  },
  {
   "cell_type": "code",
   "execution_count": 145,
   "metadata": {},
   "outputs": [],
   "source": [
    "def player_choice(board):\n",
    "    \n",
    "    choice = \"Wrong\"\n",
    "    \n",
    "    within_range = False\n",
    "    \n",
    "    posopts = [1,2,3,4,5,6,7,8,9]\n",
    "    \n",
    "    while choice not in posopts:\n",
    "        \n",
    "        choice = input(\"Please enter your next position 1-9: \")\n",
    "        \n",
    "        if choice.isdigit() == False:\n",
    "            print(\"Sorry, that is not a digit!\")\n",
    "            \n",
    "        if choice.isdigit() == True:\n",
    "            if int(choice) in posopts:\n",
    "                within_range = True\n",
    "                choice = int(choice)\n",
    "                \n",
    "            else:\n",
    "                print(\"Sorry, you are out of acceptable range (0-9).\")\n",
    "                within_range == False\n",
    "            \n",
    "    if space_check(board,choice):\n",
    "        print(\"This is a free position.\")\n",
    "        return choice\n",
    "    else:\n",
    "        print(\"This is not a free position.\")\n",
    "        player_choice(board)\n",
    "            \n",
    "    return choice\n",
    "\n",
    "'''OR:\n",
    "\n",
    "    position = 0\n",
    "    \n",
    "    while position not in [1,2,3,4,5,6,7,8,9] or not space_check(board,position):\n",
    "        position = int(input('Choose a position 1-9: '))\n",
    "        \n",
    "    return position\n",
    "    \n",
    "'''\n"
   ]
  },
  {
   "cell_type": "code",
   "execution_count": 147,
   "metadata": {},
   "outputs": [
    {
     "name": "stdout",
     "output_type": "stream",
     "text": [
      "Please enter your next position 1-9: 5\n",
      "This position is free.\n",
      "This is a free position.\n"
     ]
    },
    {
     "data": {
      "text/plain": [
       "5"
      ]
     },
     "execution_count": 147,
     "metadata": {},
     "output_type": "execute_result"
    }
   ],
   "source": [
    "player_choice(test_board2)"
   ]
  },
  {
   "cell_type": "markdown",
   "metadata": {},
   "source": [
    "**Step 9: Write a function that asks the player if they want to play again and returns a boolean True if they do want to play again.**"
   ]
  },
  {
   "cell_type": "code",
   "execution_count": 155,
   "metadata": {},
   "outputs": [],
   "source": [
    "def replay():\n",
    "    \n",
    "    choice = \"Wrong\"\n",
    "    \n",
    "    inopts = False\n",
    "    \n",
    "    options = ['Y','N']\n",
    "    \n",
    "    while choice not in options or inopts == False:\n",
    "        \n",
    "        choice = input(\"Would you like to play again? Y or N: \")\n",
    "        \n",
    "        if choice in options:\n",
    "            inopts = True\n",
    "                \n",
    "        else:\n",
    "            print(\"Sorry, that is not an option.\")\n",
    "            inopts == False\n",
    "            \n",
    "    if choice == options[0]:\n",
    "        return True\n",
    "    else:\n",
    "        return False\n",
    "\n"
   ]
  },
  {
   "cell_type": "code",
   "execution_count": 157,
   "metadata": {},
   "outputs": [
    {
     "name": "stdout",
     "output_type": "stream",
     "text": [
      "Would you like to play again? Y or N: y\n",
      "Sorry, that is not an option.\n",
      "Would you like to play again? Y or N: n\n",
      "Sorry, that is not an option.\n",
      "Would you like to play again? Y or N: No\n",
      "Sorry, that is not an option.\n",
      "Would you like to play again? Y or N: Yes\n",
      "Sorry, that is not an option.\n",
      "Would you like to play again? Y or N: YES\n",
      "Sorry, that is not an option.\n",
      "Would you like to play again? Y or N: 1\n",
      "Sorry, that is not an option.\n",
      "Would you like to play again? Y or N: r\n",
      "Sorry, that is not an option.\n",
      "Would you like to play again? Y or N: .\n",
      "Sorry, that is not an option.\n",
      "Would you like to play again? Y or N: Y\n"
     ]
    },
    {
     "data": {
      "text/plain": [
       "True"
      ]
     },
     "execution_count": 157,
     "metadata": {},
     "output_type": "execute_result"
    }
   ],
   "source": [
    "replay()"
   ]
  },
  {
   "cell_type": "code",
   "execution_count": 164,
   "metadata": {},
   "outputs": [],
   "source": [
    "def tic_tac_toe_game_full():    \n",
    "    \n",
    "    \n",
    "    from IPython.display import clear_output\n",
    "\n",
    "    def display_board(board):\n",
    "    \n",
    "        clear_output()\n",
    "    \n",
    "        print(board[7]+' | '+board[8]+' | '+board[9])\n",
    "        print('---------')\n",
    "        print(board[4]+' | '+board[5]+' | '+board[6])\n",
    "        print('---------')\n",
    "        print(board[1]+' | '+board[2]+' | '+board[3])\n",
    "  \n",
    "\n",
    "\n",
    "    \n",
    "    def player_input():\n",
    "    \n",
    "        marker = \" \"\n",
    "    \n",
    "        #Keep asking player 1 to choose x or o\n",
    "    \n",
    "        while marker != 'X' and marker != 'O':\n",
    "            marker = input('Player 1, choose X or O: ').upper()\n",
    "        \n",
    "        #Assign player 2 the opposite marker\n",
    "    \n",
    "        player1 = marker\n",
    "    \n",
    "        if player1 == 'X':\n",
    "            player2 = 'O'\n",
    "        else:\n",
    "            player2 = 'X'\n",
    "        \n",
    "        return (player1,player2)\n",
    "\n",
    "\n",
    "\n",
    "\n",
    "    def place_marker(board, marker, position):\n",
    "    \n",
    "        #mark = input(\"Enter your marker X or O: \")\n",
    "        #move = int(input(\"Which space do you want it on 1-9: \"))\n",
    "        #board[move] = mark\n",
    "        #return board\n",
    "\n",
    "        board[position] = marker\n",
    "        return board\n",
    "\n",
    "\n",
    "\n",
    "\n",
    "    def win_check(board, mark):\n",
    "    \n",
    "        game_over = False\n",
    "    \n",
    "        game_over2 = False\n",
    "    \n",
    "        if mark == 'X':\n",
    "            mark2 = 'O'\n",
    "        else:\n",
    "            mark2 = 'X'\n",
    "    \n",
    "        while game_over != True:\n",
    "        \n",
    "            if board[1]==board[2]==board[3]==mark:\n",
    "                game_over = True\n",
    "            elif board[4]==board[5]==board[6]==mark:\n",
    "                game_over = True\n",
    "            elif board[7]==board[8]==board[9]==mark:\n",
    "                game_over = True\n",
    "            elif board[1]==board[5]==board[9]==mark:\n",
    "                game_over = True\n",
    "            elif board[7]==board[5]==board[3]==mark:\n",
    "                game_over = True\n",
    "            elif board[1]==board[4]==board[7]==mark:\n",
    "                game_over = True\n",
    "            elif board[2]==board[5]==board[8]==mark:\n",
    "                game_over = True\n",
    "            elif board[3]==board[6]==board[9]==mark:\n",
    "                game_over = True\n",
    "            \n",
    "            else:\n",
    "                print(mark2+\" won the game\")\n",
    "                return game_over\n",
    "                break\n",
    "        while game_over2 != True:\n",
    "        \n",
    "            if board[1]==board[2]==board[3]==mark2:\n",
    "                game_over2 = True\n",
    "            elif board[4]==board[5]==board[6]==mark2:\n",
    "                game_over2 = True\n",
    "            elif board[7]==board[8]==board[9]==mark2:\n",
    "                game_over2 = True\n",
    "            elif board[1]==board[5]==board[9]==mark2:\n",
    "                game_over2 = True\n",
    "            elif board[7]==board[5]==board[3]==mark2:\n",
    "                game_over2 = True\n",
    "            elif board[1]==board[4]==board[7]==mark2:\n",
    "                game_over2 = True\n",
    "            elif board[2]==board[5]==board[8]==mark2:\n",
    "                game_over2 = True\n",
    "            elif board[3]==board[6]==board[9]==mark2:\n",
    "                game_over2 = True\n",
    "            \n",
    "            else:\n",
    "                print(mark2+\" lost the game\")\n",
    "                break\n",
    "                \n",
    "        \n",
    "    \n",
    "        #return mark+\" has won the game!\"\n",
    "        return game_over\n",
    "\n",
    "\n",
    "\n",
    "\n",
    "    import random\n",
    "\n",
    "    def choose_first():\n",
    "    \n",
    "        x = random.randint(1,3)\n",
    "    \n",
    "        if x == 1:\n",
    "            print(\"Player 1 will make the first move\")\n",
    "        else:\n",
    "            print(\"Player 2 will make the first move\")\n",
    "\n",
    "        \n",
    "    def space_check(board, position):\n",
    "    \n",
    "        if board[position] == ' ':\n",
    "            print(\"This position is free.\")\n",
    "            return True\n",
    "        else:\n",
    "            print(\"This position is already occupied.\")\n",
    "            return False\n",
    "    \n",
    "\n",
    "\n",
    "    def full_board_check(board):\n",
    "    \n",
    "        if ' ' in board:\n",
    "            print(\"The board is not yet full.\")\n",
    "            return False\n",
    "        else:\n",
    "            print(\"The board is completely full.\")\n",
    "            return True\n",
    "    \n",
    "    \n",
    "    \n",
    "    def player_choice(board):\n",
    "    \n",
    "        choice = \"Wrong\"\n",
    "    \n",
    "        within_range = False\n",
    "    \n",
    "        posopts = [1,2,3,4,5,6,7,8,9]\n",
    "    \n",
    "        while choice not in posopts:\n",
    "        \n",
    "            choice = input(\"Please enter your next position 1-9: \")\n",
    "        \n",
    "            if choice.isdigit() == False:\n",
    "                print(\"Sorry, that is not a digit!\")\n",
    "            \n",
    "            if choice.isdigit() == True:\n",
    "                if int(choice) in posopts:\n",
    "                    within_range = True\n",
    "                    choice = int(choice)\n",
    "                \n",
    "                else:\n",
    "                    print(\"Sorry, you are out of acceptable range (0-9).\")\n",
    "                    within_range == False\n",
    "            \n",
    "        if space_check(board,choice):\n",
    "            print(\"This is a free position.\")\n",
    "            return choice\n",
    "        else:\n",
    "            print(\"This is not a free position.\")\n",
    "            player_choice(board)\n",
    "            \n",
    "        return choice\n",
    "\n",
    "\n",
    "\n",
    "\n",
    "    def replay():\n",
    "    \n",
    "        choice = \"Wrong\"\n",
    "    \n",
    "        inopts = False\n",
    "    \n",
    "        options = ['Y','N']\n",
    "    \n",
    "        while choice not in options or inopts == False:\n",
    "        \n",
    "            choice = input(\"Would you like to play again? Y or N: \")\n",
    "        \n",
    "            if choice in options:\n",
    "                inopts = True\n",
    "                    \n",
    "            else:\n",
    "                print(\"Sorry, that is not an option.\")\n",
    "                inopts == False\n",
    "            \n",
    "        if choice == options[0]:\n",
    "            return True\n",
    "        else:\n",
    "            return False\n",
    "\n",
    "    \n",
    "    \n",
    "    "
   ]
  },
  {
   "cell_type": "code",
   "execution_count": 162,
   "metadata": {},
   "outputs": [],
   "source": [
    "tic_tac_toe_game_full()"
   ]
  },
  {
   "cell_type": "markdown",
   "metadata": {
    "collapsed": true
   },
   "source": [
    "**Step 10: Here comes the hard part! Use while loops and the functions you've made to run the game!**"
   ]
  },
  {
   "cell_type": "code",
   "execution_count": 187,
   "metadata": {},
   "outputs": [
    {
     "name": "stdout",
     "output_type": "stream",
     "text": [
      "X | O | X\n",
      "---------\n",
      "O | O | X\n",
      "---------\n",
      "X | X | O\n",
      "TIE GAME!\n",
      "Would you like to play again? Y or N: N\n"
     ]
    }
   ],
   "source": [
    "print('Welcome to Tic Tac Toe!')\n",
    "\n",
    "while True:\n",
    "    \n",
    "    # Set the game up here (board, first choice, marker/s)\n",
    "    \n",
    "    the_board = [' ']*10\n",
    "    \n",
    "    player1_marker,player2_marker = player_input()\n",
    "    \n",
    "    turn = choose_first()\n",
    "    print(turn)\n",
    "    \n",
    "    play_game = input(\"Ready to play? y or n: \")\n",
    "    \n",
    "    if play_game == 'y':\n",
    "        game_on = True\n",
    "    else:\n",
    "        game_on = False\n",
    "    \n",
    "\n",
    "    while game_on:\n",
    "        \n",
    "        if turn == \"Player 1\":\n",
    "        \n",
    "        #Player 1 Turn\n",
    "            \n",
    "            #Show the board\n",
    "            display_board(the_board)\n",
    "            \n",
    "            #choose a position\n",
    "            position = player_choice(the_board)\n",
    "            \n",
    "            #Place marker on position chosen\n",
    "            place_marker(the_board,player1_marker,position)\n",
    "            \n",
    "            #Check if they won\n",
    "            if win_check(the_board,player1_marker):\n",
    "                display_board(the_board)\n",
    "                print(\"Player 1 has won!\")\n",
    "                game_on = False\n",
    "                \n",
    "            #Or check if there is a tie\n",
    "            else:\n",
    "                if full_board_check(the_board):\n",
    "                    display_board(the_board)\n",
    "                    #game_on = False\n",
    "                    print(\"TIE GAME!\")\n",
    "                    break\n",
    "                else:\n",
    "                    turn = \"Player 2\"\n",
    "            \n",
    "            \n",
    "            #No tie and no win: Next player's turn\n",
    "            \n",
    "        # Player2's turn. (replicated Player 1 turn logic)\n",
    "        else:\n",
    "            #Show the board\n",
    "            display_board(the_board)\n",
    "            \n",
    "            #choose a position\n",
    "            position = player_choice(the_board)\n",
    "            \n",
    "            #Place marker on position chosen\n",
    "            place_marker(the_board,player2_marker,position)\n",
    "            \n",
    "            #Check if they won\n",
    "            if win_check(the_board,player2_marker):\n",
    "                display_board(the_board)\n",
    "                print(\"Player 2 has won!\")\n",
    "                game_on = False\n",
    "            else:\n",
    "                if full_board_check(the_board):\n",
    "                    display_board(the_board)\n",
    "                    #game_on = False\n",
    "                    print(\"TIE GAME!\")\n",
    "                    break\n",
    "                else:\n",
    "                    turn = \"Player 1\"\n",
    "            \n",
    "\n",
    "    if not replay():\n",
    "        break\n",
    "        #Break out of the while loop on replay()\n",
    "        "
   ]
  },
  {
   "cell_type": "markdown",
   "metadata": {
    "collapsed": true
   },
   "source": [
    "## Good Job!"
   ]
  }
 ],
 "metadata": {
  "kernelspec": {
   "display_name": "Python 3",
   "language": "python",
   "name": "python3"
  },
  "language_info": {
   "codemirror_mode": {
    "name": "ipython",
    "version": 3
   },
   "file_extension": ".py",
   "mimetype": "text/x-python",
   "name": "python",
   "nbconvert_exporter": "python",
   "pygments_lexer": "ipython3",
   "version": "3.8.5"
  }
 },
 "nbformat": 4,
 "nbformat_minor": 1
}
